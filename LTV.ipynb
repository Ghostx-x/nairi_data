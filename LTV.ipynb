{
 "cells": [
  {
   "cell_type": "code",
   "id": "initial_id",
   "metadata": {
    "collapsed": true,
    "ExecuteTime": {
     "end_time": "2025-04-29T11:55:50.003209Z",
     "start_time": "2025-04-29T11:55:49.991881Z"
    }
   },
   "source": [
    "import pandas as pd\n",
    "import matplotlib.pyplot as plt\n",
    "import psycopg2 as sql\n",
    "import pandas as pd\n",
    "import seaborn as sns\n",
    "import matplotlib.pyplot as plt\n",
    "dbname = 'thesoft_db'\n",
    "user = 'server_api'\n",
    "host = '192.168.100.152'\n",
    "password = 'SunLight09+!'"
   ],
   "outputs": [],
   "execution_count": 2
  },
  {
   "metadata": {},
   "cell_type": "markdown",
   "source": "Lifetime Value or LTV is an estimate of the average revenue that a customer will generate throughout their lifespan as a customer\n",
   "id": "febbbed21ea13d5b"
  },
  {
   "metadata": {
    "ExecuteTime": {
     "end_time": "2025-04-29T11:55:50.084144Z",
     "start_time": "2025-04-29T11:55:50.007212Z"
    }
   },
   "cell_type": "code",
   "source": [
    "\n",
    "conn = sql.connect(dbname=dbname, user=user, host=host, password=password)\n",
    "cursor = conn.cursor()\n",
    "\n",
    "query = \"\"\"\n",
    "        SELECT\n",
    "            customer_customer.\"FULLNAME\",\n",
    "            customer_customer.\"CUSTOMER\",\n",
    "            policy_policy.\"OPENDATE\" AS \"FDATE\",\n",
    "            policy_policy.\"TODATE\" AS \"STOPDATE\",\n",
    "            policy_polrisk.\"PREMIUMS\" AS \"MAXPREMIUM\"\n",
    "        FROM\n",
    "            policy_polrisk\n",
    "        INNER JOIN policy_policy\n",
    "            ON policy_polrisk.\"POLID_F\" = policy_policy.\"ID\"\n",
    "        INNER JOIN polcont_polcont\n",
    "            ON policy_policy.\"CONT_F\" = polcont_polcont.\"CONT\"\n",
    "        INNER JOIN customer_customer\n",
    "            ON polcont_polcont.\"CUSTOMER_F\" = customer_customer.\"CUSTOMER\"\n",
    "            LIMIT 200;\n",
    "\"\"\"\n",
    "\n",
    "cursor.execute(query)\n",
    "results = cursor.fetchall()\n",
    "columns = [desc[0] for desc in cursor.description]\n",
    "df = pd.DataFrame(results, columns=columns)\n",
    "\n",
    "cursor.close()\n",
    "conn.close()\n"
   ],
   "id": "fa5921f80b9e2458",
   "outputs": [],
   "execution_count": 3
  },
  {
   "metadata": {
    "ExecuteTime": {
     "end_time": "2025-04-29T11:55:50.129764Z",
     "start_time": "2025-04-29T11:55:50.118567Z"
    }
   },
   "cell_type": "code",
   "source": [
    "\n",
    "#datatypey poxel, gtnel lifespany\n",
    "df[\"FDATE\"] = pd.to_datetime(df[\"FDATE\"])\n",
    "df[\"STOPDATE\"] = pd.to_datetime(df[\"STOPDATE\"])\n",
    "df[\"lifespan\"] = (df[\"STOPDATE\"] - df[\"FDATE\"]).dt.days\n",
    "\n",
    "#anhrajesht arjeqnery LTV-n gtnelu hamar\n",
    "income_per_customer = df.groupby('CUSTOMER')['MAXPREMIUM'].sum().reset_index()\n",
    "lifespan_per_customer = df.groupby('CUSTOMER')['lifespan'].mean().reset_index()\n",
    "\n",
    "#hashvel LTV-n\n",
    "customer_ltv = pd.merge(income_per_customer, lifespan_per_customer, on='CUSTOMER')\n",
    "customer_ltv['MAXPREMIUM'] = customer_ltv['MAXPREMIUM'].astype(float) #vor float cher error er berum bajaneluc\n",
    "customer_ltv['LTV'] = customer_ltv['MAXPREMIUM'] / customer_ltv['lifespan']\n",
    "\n",
    "#customernerin gtnel\n",
    "info = df[['CUSTOMER', 'FULLNAME']].drop_duplicates()\n",
    "customer_ltv = pd.merge(customer_ltv, info, on='CUSTOMER')\n",
    "\n",
    "customer_ltv = customer_ltv[['CUSTOMER', 'FULLNAME', 'LTV']]"
   ],
   "id": "5feb5439fc670969",
   "outputs": [],
   "execution_count": 4
  },
  {
   "metadata": {
    "ExecuteTime": {
     "end_time": "2025-04-29T11:55:50.246355Z",
     "start_time": "2025-04-29T11:55:50.139415Z"
    }
   },
   "cell_type": "code",
   "source": [
    "plt.figure(figsize=(10,5))\n",
    "sns.histplot(customer_ltv['LTV'], bins=30, kde=True)\n",
    "plt.xlabel(\"Lifetime Value (LTV)\")\n",
    "plt.ylabel(\"Number of Customers\")\n",
    "plt.title(\"Customer LTV Distribution\")\n",
    "plt.show()"
   ],
   "id": "dfaa8c24890a12ba",
   "outputs": [
    {
     "data": {
      "text/plain": [
       "<Figure size 1000x500 with 1 Axes>"
      ],
      "image/png": "[encoded data removed]"
     },
     "metadata": {},
     "output_type": "display_data"
    }
   ],
   "execution_count": 5
  },
  {
   "metadata": {
    "ExecuteTime": {
     "end_time": "2025-04-29T11:56:16.986115Z",
     "start_time": "2025-04-29T11:56:16.976148Z"
    }
   },
   "cell_type": "code",
   "source": [
    "\n",
    "#bajanel maseri\n",
    "q1 = customer_ltv['LTV'].quantile(0.33)\n",
    "q2 = customer_ltv['LTV'].quantile(0.66)\n",
    "\n",
    "def segment_ltv(ltv):\n",
    "    if ltv <= q1:\n",
    "        return 'Low LTV'\n",
    "    elif ltv <= q2:\n",
    "        return 'Medium LTV'\n",
    "    else:\n",
    "        return 'High LTV'\n",
    "\n",
    "customer_ltv['Segment'] = customer_ltv['LTV'].apply(segment_ltv)\n",
    "\n",
    "low_ltv = customer_ltv[customer_ltv['Segment'] == 'Low LTV']\n",
    "medium_ltv = customer_ltv[customer_ltv['Segment'] == 'Medium LTV']\n",
    "high_ltv = customer_ltv[customer_ltv['Segment'] == 'High LTV']\n",
    "\n",
    "#Tpel erkuakan customer amen segmentic\n",
    "low_customers = customer_ltv[customer_ltv['Segment'] == 'Low LTV'][['FULLNAME', 'LTV']].head(2)\n",
    "medium_customers = customer_ltv[customer_ltv['Segment'] == 'Medium LTV'][['FULLNAME', 'LTV']].head(2)\n",
    "high_customers = customer_ltv[customer_ltv['Segment'] == 'High LTV'][['FULLNAME', 'LTV']].head(2)\n",
    "\n",
    "print(\"Low LTV Customers:\")\n",
    "print(low_customers)\n",
    "\n",
    "print(\"\\nMedium LTV Customers:\")\n",
    "print(medium_customers)\n",
    "\n",
    "print(\"\\nHigh LTV Customers:\")\n",
    "print(high_customers)\n"
   ],
   "id": "5c59b1c574e7cb73",
   "outputs": [
    {
     "name": "stdout",
     "output_type": "stream",
     "text": [
      "Low LTV Customers:\n",
      "                    FULLNAME        LTV\n",
      "1              \"Ադամանդ\" ՍՊԸ  16.528926\n",
      "2  \"ՀՀ ԿԵՆՏՐՈՆԱԿԱՆ ԲԱՆԿ\" Այլ  16.250000\n",
      "\n",
      "Medium LTV Customers:\n",
      "                       FULLNAME         LTV\n",
      "4                 ԿԱՄՈ ՍԱՖԱՐՅԱՆ  362.637363\n",
      "7  Հարությունյան Արտյոմ Գարուշի  362.637363\n",
      "\n",
      "High LTV Customers:\n",
      "                                             FULLNAME      LTV\n",
      "0   ՀԱՅԱՍՏԱՆԻ ԱՄԵՐԻԿՅԱՆ ՀԱՄԱԼՍԱՐԱՆ ՀԻՄՆԱԴՐԱՄ Հիմնա...  13650.0\n",
      "18                                      ԱՅՅՈՒՆԵԹՎՈՐՔՍ   5400.0\n"
     ]
    }
   ],
   "execution_count": 7
  },
  {
   "metadata": {},
   "cell_type": "markdown",
   "source": "For High-value customers focus on retention strategies (e.g. loyalty programs, VIP offers)\n",
   "id": "dbf3fad2f7720f71"
  },
  {
   "metadata": {},
   "cell_type": "markdown",
   "source": "Medium-value customers upsell/cross-sell campaigns to move them into the high-value segment",
   "id": "e887fb1bca3e761e"
  },
  {
   "metadata": {},
   "cell_type": "markdown",
   "source": "For Low-value customers  avoid over-investing in retention",
   "id": "24892391fc92fe9c"
  }
 ],
 "metadata": {
  "kernelspec": {
   "display_name": "Python 3",
   "language": "python",
   "name": "python3"
  },
  "language_info": {
   "codemirror_mode": {
    "name": "ipython",
    "version": 2
   },
   "file_extension": ".py",
   "mimetype": "text/x-python",
   "name": "python",
   "nbconvert_exporter": "python",
   "pygments_lexer": "ipython2",
   "version": "2.7.6"
  }
 },
 "nbformat": 4,
 "nbformat_minor": 5
}
